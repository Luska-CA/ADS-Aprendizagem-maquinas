{
  "nbformat": 4,
  "nbformat_minor": 0,
  "metadata": {
    "colab": {
      "provenance": [],
      "authorship_tag": "ABX9TyOCuiEdQhs3P/eK3hkcB5ta",
      "include_colab_link": true
    },
    "kernelspec": {
      "name": "python3",
      "display_name": "Python 3"
    },
    "language_info": {
      "name": "python"
    }
  },
  "cells": [
    {
      "cell_type": "markdown",
      "metadata": {
        "id": "view-in-github",
        "colab_type": "text"
      },
      "source": [
        "<a href=\"https://colab.research.google.com/github/Luska-CA/ADS-Aprendizagem-maquinas/blob/main/Dever-03.ipynb\" target=\"_parent\"><img src=\"https://colab.research.google.com/assets/colab-badge.svg\" alt=\"Open In Colab\"/></a>"
      ]
    },
    {
      "cell_type": "markdown",
      "source": [
        "Criando o arquivo CSV:"
      ],
      "metadata": {
        "id": "ukXeg3XpbCgB"
      }
    },
    {
      "cell_type": "code",
      "execution_count": 26,
      "metadata": {
        "id": "0GerVhGqajmA"
      },
      "outputs": [],
      "source": [
        "f = open(\"dados.csv\",\"x\")\n",
        "f = open(\"dados.csv\", \"a\")\n",
        "f.write(\"Nome,Idade\\nAna,25\\nBruno,30\\nCarla,22\\nDaniel,28\\nEduardo,35\")\n",
        "f.close()\n"
      ]
    },
    {
      "cell_type": "markdown",
      "source": [
        "Lendo o Arquivo CSV:"
      ],
      "metadata": {
        "id": "wF6_Yvt-cF76"
      }
    },
    {
      "cell_type": "code",
      "source": [
        "# prompt: Receba um nome do usuário e verifique se está na lista, exiba a idade correspondente\n",
        "\n",
        "import csv\n",
        "\n",
        "# Lendo o Arquivo CSV:\n",
        "data = {}  # Usando um dicionário para armazenar nome e idade\n",
        "with open('dados.csv', 'r') as file:\n",
        "    reader = csv.reader(file)\n",
        "    next(reader)  # Pula o cabeçalho (primeira linha)\n",
        "    for row in reader:\n",
        "        name, age = row\n",
        "        data[name] = age  # Armazena no dicionário\n",
        "\n",
        "prompt = input(\"Digite um nome: \")\n",
        "print(max(data))\n",
        "\n",
        "if prompt in data:\n",
        "    print(f\"{prompt} está na lista e tem {data[prompt]} anos\")\n",
        "    if prompt == max(data):\n",
        "        print(f\"{prompt} é o(a) mais velho(a) da lista\")\n",
        "    else:\n",
        "        print(f\"{prompt} não é o(a) mais velho(a) da lista\")\n",
        "else:\n",
        "    print(f\"O nome '{prompt}' não está na lista.\")\n"
      ],
      "metadata": {
        "colab": {
          "base_uri": "https://localhost:8080/"
        },
        "id": "gFinlwkbdyxT",
        "outputId": "0765d9da-7bd7-4014-be12-a12c14f2bd56"
      },
      "execution_count": 33,
      "outputs": [
        {
          "output_type": "stream",
          "name": "stdout",
          "text": [
            "Digite um nome: Ana\n",
            "Eduardo\n",
            "Ana está na lista e tem 25 anos\n",
            "Ana não é o(a) mais velho(a) da lista\n"
          ]
        }
      ]
    }
  ]
}