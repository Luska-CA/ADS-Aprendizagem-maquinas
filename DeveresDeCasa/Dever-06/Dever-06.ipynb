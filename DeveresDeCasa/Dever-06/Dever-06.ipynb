{
  "nbformat": 4,
  "nbformat_minor": 0,
  "metadata": {
    "colab": {
      "provenance": [],
      "include_colab_link": true
    },
    "kernelspec": {
      "name": "python3",
      "display_name": "Python 3"
    },
    "language_info": {
      "name": "python"
    }
  },
  "cells": [
    {
      "cell_type": "markdown",
      "metadata": {
        "id": "view-in-github",
        "colab_type": "text"
      },
      "source": [
        "<a href=\"https://colab.research.google.com/github/Luska-CA/ADS-Aprendizagem-maquinas/blob/main/DeveresDeCasa/Dever-06/Dever-06.ipynb\" target=\"_parent\"><img src=\"https://colab.research.google.com/assets/colab-badge.svg\" alt=\"Open In Colab\"/></a>"
      ]
    },
    {
      "cell_type": "code",
      "execution_count": 2,
      "metadata": {
        "colab": {
          "base_uri": "https://localhost:8080/"
        },
        "id": "Iv3SDkoiBja2",
        "outputId": "6ee68c22-98af-4701-fdce-40db060b3e19"
      },
      "outputs": [
        {
          "output_type": "stream",
          "name": "stdout",
          "text": [
            "Digite o comprimento da sépala: 2.4\n",
            "Digite a largura da sépala: 6.5\n",
            "Digite o comprimento da pétala: 1.2\n",
            "Digite a largura da pétala:5.6\n",
            "['a flor provavelmente é uma setosa']\n"
          ]
        }
      ],
      "source": [
        "from sklearn import datasets\n",
        "from sklearn.ensemble import RandomForestClassifier\n",
        "from sklearn.neighbors import KNeighborsClassifier\n",
        "\n",
        "iris = datasets.load_iris()\n",
        "\n",
        "X = iris.data\n",
        "y = iris.target\n",
        "nomes_especies = iris.target_names\n",
        "\n",
        "#modelo = RandomForestClassifier()\n",
        "modelo = KNeighborsClassifier(n_neighbors=3)\n",
        "modelo.fit(X, y)\n",
        "entrada1 = float(input(\"Digite o comprimento da sépala: \"))\n",
        "entrada2 = float(input(\"Digite a largura da sépala: \"))\n",
        "entrada3 = float(input(\"Digite o comprimento da pétala: \"))\n",
        "entrada4 = float(input(\"Digite a largura da pétala:\"))\n",
        "previsao = iris.target_names[modelo.predict([[entrada1, entrada2, entrada3, entrada4]])]\n",
        "print(\"a flor provavelmente é uma \" + previsao)"
      ]
    }
  ]
}