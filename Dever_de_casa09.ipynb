{
  "nbformat": 4,
  "nbformat_minor": 0,
  "metadata": {
    "colab": {
      "provenance": [],
      "authorship_tag": "ABX9TyOpOqwH6YRf2VzhlY/XIlFA",
      "include_colab_link": true
    },
    "kernelspec": {
      "name": "python3",
      "display_name": "Python 3"
    },
    "language_info": {
      "name": "python"
    }
  },
  "cells": [
    {
      "cell_type": "markdown",
      "metadata": {
        "id": "view-in-github",
        "colab_type": "text"
      },
      "source": [
        "<a href=\"https://colab.research.google.com/github/Luska-CA/ADS-Aprendizagem-maquinas/blob/main/Dever_de_casa09.ipynb\" target=\"_parent\"><img src=\"https://colab.research.google.com/assets/colab-badge.svg\" alt=\"Open In Colab\"/></a>"
      ]
    },
    {
      "cell_type": "markdown",
      "source": [
        "Dever de Casa 09 - Utilizando o dataset IRIS, crie um *trainsize* de 40% da amostra e imprima no console a quantidade de itens da amostra de teste"
      ],
      "metadata": {
        "id": "DIMC82Cwx_ET"
      }
    },
    {
      "cell_type": "code",
      "execution_count": 1,
      "metadata": {
        "colab": {
          "base_uri": "https://localhost:8080/"
        },
        "id": "jtw2OMF9x5wn",
        "outputId": "c2081e92-71c8-4dec-c276-9a661b67fadc"
      },
      "outputs": [
        {
          "output_type": "stream",
          "name": "stdout",
          "text": [
            "Quantidade de itens da amostra de teste: 60\n"
          ]
        }
      ],
      "source": [
        "from sklearn.model_selection import train_test_split\n",
        "from sklearn import datasets\n",
        "\n",
        "iris = datasets.load_iris()\n",
        "X, y = iris.data, iris.target\n",
        "\n",
        "X_train, X_test, y_train, y_test = train_test_split(X, y, train_size=0.4, random_state=42)\n",
        "\n",
        "contador_X_train = 0\n",
        "for i in X_train:\n",
        "  contador_X_train += 1\n",
        "\n",
        "print(f\"Quantidade de itens da amostra de teste: {contador_X_train}\")"
      ]
    }
  ]
}